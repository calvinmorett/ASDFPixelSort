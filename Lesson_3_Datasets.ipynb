{
  "nbformat": 4,
  "nbformat_minor": 0,
  "metadata": {
    "colab": {
      "name": "Lesson 3 Datasets.ipynb",
      "provenance": [],
      "collapsed_sections": [],
      "include_colab_link": true
    },
    "kernelspec": {
      "name": "python3",
      "display_name": "Python 3"
    }
  },
  "cells": [
    {
      "cell_type": "markdown",
      "metadata": {
        "id": "view-in-github",
        "colab_type": "text"
      },
      "source": [
        "<a href=\"https://colab.research.google.com/github/calvinmorett/ASDFPixelSort/blob/master/Lesson_3_Datasets.ipynb\" target=\"_parent\"><img src=\"https://colab.research.google.com/assets/colab-badge.svg\" alt=\"Open In Colab\"/></a>"
      ]
    },
    {
      "cell_type": "code",
      "metadata": {
        "id": "NAPaUcKShj5B",
        "colab_type": "code",
        "colab": {}
      },
      "source": [
        "# Lists to use for exercises.\n",
        "spam = [\"cat\", \"bat\", \"rat\", \"elephant\"]\n",
        "avengers = [\"Captain America\", \"Iron Man\", \"Black Panther\", \"Captain Marvel\", \"Black Widow\"]\n",
        "box_office = [783, 370, 708, 519, 757, 1214, 585, 677, 714, 2732, 1153, 263, 1346, 2046, 890, 449, 623, 880, 622, 1405, 863, 1518, 850, 773, 821, 644, 1127]\n",
        "\n",
        "avengers_dictionary = {\n",
        "    \"Avengers: Endgame\": 2732,\n",
        "    \"Avengers: Infinity War\": 2046,\n",
        "    \"Marvel's The Avengers\": 1518,\n",
        "    \"Avengers: Age of Ultron\": 1405,\n",
        "    \"Black Panther\": 1346,\n",
        "    \"Iron Man 3\": 1214,\n",
        "    \"Captain America: Civil War\": 1153,\n",
        "    \"Captain Marvel\": 1127,\n",
        "    \"Spider-Man 3\": 890,\n",
        "    \"Spider-Man Homecoming\": 880,\n",
        "    \"Guardians of the Galaxy 2\": 863,\n",
        "    \"Thor: Ragnorak\": 850,\n",
        "    \"Spider-Man\": 821,\n",
        "    \"Spider-Man 2\": 783,\n",
        "    \"Guardians of the Galaxy\": 773,\n",
        "    \"The Amazing Spider-Man\": 757,\n",
        "    \"Captain America: The Winter Soldier\": 714,\n",
        "    \"The Amazing Spider-Man 2\": 708,\n",
        "    \"Doctor Strange\": 677,\n",
        "    \"Thor: The Dark World\": 644,\n",
        "    \"Iron Man 2\": 623,\n",
        "    \"Ant-Man and the Wasp\": 622,\n",
        "    \"Iron Man\": 585,\n",
        "    \"Ant-Man\": 519,\n",
        "    \"Thor\": 449,\n",
        "    \"Captain America: The First Avender\": 370,\n",
        "    \"The Incredible Hulk\": 263\n",
        "}"
      ],
      "execution_count": 0,
      "outputs": []
    },
    {
      "cell_type": "code",
      "metadata": {
        "id": "tsY5JOXJOdT6",
        "colab_type": "code",
        "colab": {}
      },
      "source": [
        ""
      ],
      "execution_count": 0,
      "outputs": []
    }
  ]
}