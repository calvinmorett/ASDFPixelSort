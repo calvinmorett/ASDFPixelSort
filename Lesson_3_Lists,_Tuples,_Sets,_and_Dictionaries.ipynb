{
  "nbformat": 4,
  "nbformat_minor": 0,
  "metadata": {
    "colab": {
      "name": "Lesson 3- Lists, Tuples, Sets, and Dictionaries.ipynb",
      "provenance": [],
      "collapsed_sections": [
        "T-z_YtPMeo5E",
        "TEFEM8odWze_",
        "826Hkd19a0Il",
        "PCZWOGD1X7at",
        "TejH5ghoakBs",
        "zVuihazWYdyk",
        "5nRAfEvTouTK",
        "Y5ix32fV-JWd",
        "4-ZW5Fe5_Vyh",
        "YlzK9fVUAQG3",
        "UoDqSYcVgaj6",
        "wQXtAcruiMoI",
        "LRCudn_Nmy0E",
        "-l2oVQRWDM2D",
        "qmOCHLVzFuf5",
        "t0igN7UKJHUz",
        "bEW9DsBtLT2E",
        "g3xP7i6RPp8U",
        "2zE9uliXbLfJ",
        "ElDackk3YYGk"
      ],
      "include_colab_link": true
    },
    "kernelspec": {
      "name": "python3",
      "display_name": "Python 3"
    }
  },
  "cells": [
    {
      "cell_type": "markdown",
      "metadata": {
        "id": "view-in-github",
        "colab_type": "text"
      },
      "source": [
        "<a href=\"https://colab.research.google.com/github/calvinmorett/ASDFPixelSort/blob/master/Lesson_3_Lists%2C_Tuples%2C_Sets%2C_and_Dictionaries.ipynb\" target=\"_parent\"><img src=\"https://colab.research.google.com/assets/colab-badge.svg\" alt=\"Open In Colab\"/></a>"
      ]
    },
    {
      "cell_type": "markdown",
      "metadata": {
        "id": "oF1a-efZWvDA",
        "colab_type": "text"
      },
      "source": [
        "# Intro to Data Structures"
      ]
    },
    {
      "cell_type": "markdown",
      "metadata": {
        "id": "h1aLsylYWVhA",
        "colab_type": "text"
      },
      "source": [
        "In this class we'll talk about a couple of other data types, specifically:\n",
        "- Lists\n",
        "- Dictionaries\n",
        "- Tuples\n",
        "- Sets"
      ]
    },
    {
      "cell_type": "markdown",
      "metadata": {
        "id": "T-z_YtPMeo5E",
        "colab_type": "text"
      },
      "source": [
        "## One More Note About Variables...."
      ]
    },
    {
      "cell_type": "markdown",
      "metadata": {
        "id": "J-HDVj5fetks",
        "colab_type": "text"
      },
      "source": [
        "In Notebooks like Jupyter and Google Colab, when you declare a variable it is accessible throughout the notebook after you run the cell."
      ]
    },
    {
      "cell_type": "code",
      "metadata": {
        "id": "0J4bPgY91g-g",
        "colab_type": "code",
        "outputId": "50007e40-4d35-45ac-d00c-e69820c3a8f7",
        "colab": {
          "base_uri": "https://localhost:8080/",
          "height": 35
        }
      },
      "source": [
        "notebook_var"
      ],
      "execution_count": 0,
      "outputs": [
        {
          "output_type": "execute_result",
          "data": {
            "text/plain": [
              "'Variable'"
            ]
          },
          "metadata": {
            "tags": []
          },
          "execution_count": 2
        }
      ]
    },
    {
      "cell_type": "code",
      "metadata": {
        "id": "e38k3O53e2SG",
        "colab_type": "code",
        "colab": {}
      },
      "source": [
        "# For example if I declare a variable here...\n",
        "notebook_var = \"Variable\""
      ],
      "execution_count": 0,
      "outputs": []
    },
    {
      "cell_type": "markdown",
      "metadata": {
        "id": "TEFEM8odWze_",
        "colab_type": "text"
      },
      "source": [
        "## Lists"
      ]
    },
    {
      "cell_type": "markdown",
      "metadata": {
        "id": "cR5P7d0WVfAG",
        "colab_type": "text"
      },
      "source": [
        "**Lists** are allow you to store a collection of items.\n",
        "\n",
        "You can have as many items as you'd like in a list.\n",
        "\n",
        "How to define a list:\n",
        "\n",
        "- Items of a list are enclosed in `[` and `]`\n",
        "- Items in the list are separated by commas\n"
      ]
    },
    {
      "cell_type": "markdown",
      "metadata": {
        "id": "DOQnKM2pW_eD",
        "colab_type": "text"
      },
      "source": [
        "Lists can contain items of any data type.\n",
        "\n",
        "A single list can contain ints, strings, floats, booleans... even other lists!"
      ]
    },
    {
      "cell_type": "code",
      "metadata": {
        "id": "B_s5hoEBXLet",
        "colab_type": "code",
        "colab": {}
      },
      "source": [
        "# List with multiple different data types\n",
        "our_first_list = [1, \"a\", True, ]"
      ],
      "execution_count": 0,
      "outputs": []
    },
    {
      "cell_type": "code",
      "metadata": {
        "id": "wNXpgP-6WqsV",
        "colab_type": "code",
        "colab": {}
      },
      "source": [
        "# Exercise: Create your first list!  Show the type()."
      ],
      "execution_count": 0,
      "outputs": []
    },
    {
      "cell_type": "markdown",
      "metadata": {
        "id": "826Hkd19a0Il",
        "colab_type": "text"
      },
      "source": [
        "## `len()` function"
      ]
    },
    {
      "cell_type": "markdown",
      "metadata": {
        "id": "ZtvJ5FPta7Ro",
        "colab_type": "text"
      },
      "source": [
        "A list can contain however many items you want, but how can you tell how long a list is?\n",
        "\n",
        "The `len()` function in Python will tell you the number of items in an object."
      ]
    },
    {
      "cell_type": "code",
      "metadata": {
        "id": "726sbJiBbUa5",
        "colab_type": "code",
        "colab": {}
      },
      "source": [
        "# How long is the list above?"
      ],
      "execution_count": 0,
      "outputs": []
    },
    {
      "cell_type": "markdown",
      "metadata": {
        "id": "mxaqnlI8bW0D",
        "colab_type": "text"
      },
      "source": [
        "The `len()` isn't exclusive to lists.  It can also tell you how long a string is."
      ]
    },
    {
      "cell_type": "code",
      "metadata": {
        "id": "jfGMBXRTbcoj",
        "colab_type": "code",
        "colab": {}
      },
      "source": [
        "len(\"Welcome to Python for Analytics!\")"
      ],
      "execution_count": 0,
      "outputs": []
    },
    {
      "cell_type": "code",
      "metadata": {
        "id": "-tYzSqrFf_o3",
        "colab_type": "code",
        "colab": {}
      },
      "source": [
        "# Exercise: How long is the list you created above?"
      ],
      "execution_count": 0,
      "outputs": []
    },
    {
      "cell_type": "markdown",
      "metadata": {
        "id": "PCZWOGD1X7at",
        "colab_type": "text"
      },
      "source": [
        "## List Indexing"
      ]
    },
    {
      "cell_type": "markdown",
      "metadata": {
        "id": "trgxDzeWX9CJ",
        "colab_type": "text"
      },
      "source": [
        "Items in a list can be identified by their index.\n",
        "\n",
        "Each item in the list has a numeric index associated with its position in the list.\n",
        "\n",
        "\n",
        "![Automate the Boring Stuff Indexing Example](https://automatetheboringstuff.com/2e/images/000090.jpg)\n",
        "\n",
        "\n",
        "In Python the first index in a list is always **0**!\n",
        "\n",
        "You can access a list item by adding brackets at the end of the list with an integer of the list item you want to add.\n",
        "\n",
        "```python\n",
        "spam = [\"cat\", \"bat\", \"rat\", \"elephant\"]\n",
        "\n",
        "spam[0]\n",
        "```"
      ]
    },
    {
      "cell_type": "code",
      "metadata": {
        "id": "RBYWedLcX7BP",
        "colab_type": "code",
        "colab": {}
      },
      "source": [
        "spam = [\"cat\", \"bat\", \"rat\", \"elephant\"]"
      ],
      "execution_count": 0,
      "outputs": []
    },
    {
      "cell_type": "code",
      "metadata": {
        "id": "zHKAQ2UzYirA",
        "colab_type": "code",
        "colab": {}
      },
      "source": [
        "# Exercise: What happens when you access an index that doesn't exist?"
      ],
      "execution_count": 0,
      "outputs": []
    },
    {
      "cell_type": "markdown",
      "metadata": {
        "id": "TejH5ghoakBs",
        "colab_type": "text"
      },
      "source": [
        "### Selecting the Last Value of a List\n",
        "\n",
        "A list can contain any number of items.\n",
        "\n",
        "What is one way to select the last item of a list?\n"
      ]
    },
    {
      "cell_type": "code",
      "metadata": {
        "id": "L_uVI6VkZVU2",
        "colab_type": "code",
        "colab": {}
      },
      "source": [
        "# Exercise- Using what we have covered so far, how could you select the last value of a list?"
      ],
      "execution_count": 0,
      "outputs": []
    },
    {
      "cell_type": "markdown",
      "metadata": {
        "id": "zVuihazWYdyk",
        "colab_type": "text"
      },
      "source": [
        "### Selecting a Range of Values from a List"
      ]
    },
    {
      "cell_type": "markdown",
      "metadata": {
        "id": "9wKzLg19Yk4R",
        "colab_type": "text"
      },
      "source": [
        "So far we have only selected a single value from a list.\n",
        "\n",
        "How could we select a range of different values?"
      ]
    },
    {
      "cell_type": "code",
      "metadata": {
        "id": "SfT73DosYuoh",
        "colab_type": "code",
        "colab": {}
      },
      "source": [
        "# Selecting a range of values from a list."
      ],
      "execution_count": 0,
      "outputs": []
    },
    {
      "cell_type": "code",
      "metadata": {
        "id": "CFQTT52GfoZG",
        "colab_type": "code",
        "colab": {}
      },
      "source": [
        "# Exercise: How would you select all but the last element of a list?"
      ],
      "execution_count": 0,
      "outputs": []
    },
    {
      "cell_type": "markdown",
      "metadata": {
        "id": "5nRAfEvTouTK",
        "colab_type": "text"
      },
      "source": [
        "### Where is that thing in my list?!\n",
        "\n"
      ]
    },
    {
      "cell_type": "markdown",
      "metadata": {
        "id": "Y5ix32fV-JWd",
        "colab_type": "text"
      },
      "source": [
        "Up to this point everything you have done you have known the index, but that's not always going to be the case.\n",
        "\n",
        "Sometimes lists are too long to know where exactly the item is in a list.\n",
        "\n",
        "First, how can we tell if a value is in a list to start with?\n",
        "\n",
        "#### The \"in\" operator\n",
        "\n",
        "Using **in** will check if a value is in a list or another sequence."
      ]
    },
    {
      "cell_type": "code",
      "metadata": {
        "id": "v3xPG-PEotc2",
        "colab_type": "code",
        "outputId": "c6259c19-f8d2-498d-c05b-0870a3f9f352",
        "colab": {
          "base_uri": "https://localhost:8080/",
          "height": 34
        }
      },
      "source": [
        "# Check if an item is in a list.\n",
        "\"cat\" in spam"
      ],
      "execution_count": 0,
      "outputs": [
        {
          "output_type": "execute_result",
          "data": {
            "text/plain": [
              "True"
            ]
          },
          "metadata": {
            "tags": []
          },
          "execution_count": 14
        }
      ]
    },
    {
      "cell_type": "code",
      "metadata": {
        "id": "iJPTgra2_Smv",
        "colab_type": "code",
        "outputId": "3b64764b-36e2-47ad-f44f-3ebbcfe159fc",
        "colab": {
          "base_uri": "https://localhost:8080/",
          "height": 34
        }
      },
      "source": [
        "\"nope\" in spam"
      ],
      "execution_count": 0,
      "outputs": [
        {
          "output_type": "execute_result",
          "data": {
            "text/plain": [
              "False"
            ]
          },
          "metadata": {
            "tags": []
          },
          "execution_count": 15
        }
      ]
    },
    {
      "cell_type": "markdown",
      "metadata": {
        "id": "4-ZW5Fe5_Vyh",
        "colab_type": "text"
      },
      "source": [
        "#### Getting an Item's Index in a List\n",
        "\n",
        "The **`index()`** function in Python will return the index of the **first** occurrence of an item in a list."
      ]
    },
    {
      "cell_type": "code",
      "metadata": {
        "id": "DU-n4YNj_0KE",
        "colab_type": "code",
        "colab": {}
      },
      "source": [
        "# Get the index of elephant in the list.\n"
      ],
      "execution_count": 0,
      "outputs": []
    },
    {
      "cell_type": "code",
      "metadata": {
        "id": "IaHEiCfoAm8Z",
        "colab_type": "code",
        "colab": {}
      },
      "source": [
        "# Example to demonstrate how only the first item is returned.\n",
        "test_list = [0, 1, 2, 3, 1, 2]"
      ],
      "execution_count": 0,
      "outputs": []
    },
    {
      "cell_type": "code",
      "metadata": {
        "id": "FT63AkgNADpW",
        "colab_type": "code",
        "colab": {}
      },
      "source": [
        "# Exercise- What happens if you try to get the index of an item that's not in the list?"
      ],
      "execution_count": 0,
      "outputs": []
    },
    {
      "cell_type": "markdown",
      "metadata": {
        "id": "YlzK9fVUAQG3",
        "colab_type": "text"
      },
      "source": [
        "##### How can you get the index for all instances of a repeated item in a list?"
      ]
    },
    {
      "cell_type": "markdown",
      "metadata": {
        "id": "UqD4BZ5rAcj9",
        "colab_type": "text"
      },
      "source": [
        "We'll cover this next week when we learn about **looping** and **list comprehension**.  Stay tuned!"
      ]
    },
    {
      "cell_type": "markdown",
      "metadata": {
        "id": "UoDqSYcVgaj6",
        "colab_type": "text"
      },
      "source": [
        "## Modifying Values in Lists"
      ]
    },
    {
      "cell_type": "markdown",
      "metadata": {
        "id": "apMnhVgbgdN0",
        "colab_type": "text"
      },
      "source": [
        "Lists are considered a **mutable** object in Python.\n",
        "\n",
        "**mutable** is a fancy word meaning that the object can be changed after it has been created.\n",
        "\n",
        "That means that we can add, delete, and replace values in our list."
      ]
    },
    {
      "cell_type": "code",
      "metadata": {
        "id": "lIC-m2bbhEg3",
        "colab_type": "code",
        "colab": {}
      },
      "source": [
        "# Let's start with a list of Avengers.\n",
        "avengers = [\"Captain America\", \"Iron Man\", \"Black Panther\", \"Captain Marvel\", \"Black Widow\"]"
      ],
      "execution_count": 0,
      "outputs": []
    },
    {
      "cell_type": "markdown",
      "metadata": {
        "id": "wQXtAcruiMoI",
        "colab_type": "text"
      },
      "source": [
        "### Adding a value to a list."
      ]
    },
    {
      "cell_type": "markdown",
      "metadata": {
        "id": "8dmt5_PDiP3J",
        "colab_type": "text"
      },
      "source": [
        "I'm missing a bunch of the Avengers from the list above, so let's add some."
      ]
    },
    {
      "cell_type": "code",
      "metadata": {
        "id": "5K9rcpG7kXby",
        "colab_type": "code",
        "colab": {}
      },
      "source": [
        "# Using the `append()` function.\n"
      ],
      "execution_count": 0,
      "outputs": []
    },
    {
      "cell_type": "markdown",
      "metadata": {
        "id": "C2EfLi3ale7u",
        "colab_type": "text"
      },
      "source": [
        "Each of the functions above will add an item to the end of the list.\n",
        "\n",
        "You can also specify the location in a list to insert an item using indexing."
      ]
    },
    {
      "cell_type": "code",
      "metadata": {
        "id": "55tCnCYHlqA1",
        "colab_type": "code",
        "colab": {}
      },
      "source": [
        "# Add an item by its index using `insert()`.\n"
      ],
      "execution_count": 0,
      "outputs": []
    },
    {
      "cell_type": "markdown",
      "metadata": {
        "id": "0PZ-ZUoFmB-N",
        "colab_type": "text"
      },
      "source": [
        "Because lists can accept any type of data you can also add a list to a list."
      ]
    },
    {
      "cell_type": "code",
      "metadata": {
        "id": "uLRJe-KfmQPf",
        "colab_type": "code",
        "colab": {}
      },
      "source": [
        "# Append a list to the `avengers` list.\n",
        "new_avengers = [\"Rocket\", \"Groot\"]"
      ],
      "execution_count": 0,
      "outputs": []
    },
    {
      "cell_type": "code",
      "metadata": {
        "id": "7p8_OPDwi8oa",
        "colab_type": "code",
        "outputId": "9fe45bb6-adf3-419d-db40-b5357564df42",
        "colab": {
          "base_uri": "https://localhost:8080/",
          "height": 34
        }
      },
      "source": [
        "print(avengers)"
      ],
      "execution_count": 0,
      "outputs": [
        {
          "output_type": "stream",
          "text": [
            "['Captain America', 'Iron Man', 'Captain Marvel', 'Black Widow']\n"
          ],
          "name": "stdout"
        }
      ]
    },
    {
      "cell_type": "code",
      "metadata": {
        "id": "tztSEF9MnK5m",
        "colab_type": "code",
        "colab": {}
      },
      "source": [
        "# Quick Exercise: How long is the list we have created?"
      ],
      "execution_count": 0,
      "outputs": []
    },
    {
      "cell_type": "markdown",
      "metadata": {
        "id": "LRCudn_Nmy0E",
        "colab_type": "text"
      },
      "source": [
        "### Replacing Items in a List"
      ]
    },
    {
      "cell_type": "markdown",
      "metadata": {
        "id": "G1xQi_r1h6w1",
        "colab_type": "text"
      },
      "source": [
        "You can also assign new values to items in a list in a couple of different ways.\n",
        "\n",
        "1) If you know the exact index you want to replace you can use that index."
      ]
    },
    {
      "cell_type": "code",
      "metadata": {
        "id": "PkdqoPUChvN5",
        "colab_type": "code",
        "colab": {}
      },
      "source": [
        "\"\"\"\n",
        "Let's replace \"Captain America\" with the actor \"Chris Evans\" \n",
        "\n",
        "Where we know \"Captain America\" is the first element of the list.\n",
        "\"\"\"\n",
        "avengers[0] = \"Chris Evans\""
      ],
      "execution_count": 0,
      "outputs": []
    },
    {
      "cell_type": "markdown",
      "metadata": {
        "id": "P317p_ZOoEZX",
        "colab_type": "text"
      },
      "source": [
        "2) If you only know the value you can get the index and then update the value.\n",
        "\n",
        "In the code below let's replace \"Captain Marvel\" with \"Brie Larson\"."
      ]
    },
    {
      "cell_type": "code",
      "metadata": {
        "id": "2P_-Pk93oh8h",
        "colab_type": "code",
        "colab": {}
      },
      "source": [
        "# Find the index of the item you want to replace.\n",
        "idx_replace = \n",
        "\n",
        "# Replace with the actor's name in `avengers`"
      ],
      "execution_count": 0,
      "outputs": []
    },
    {
      "cell_type": "markdown",
      "metadata": {
        "id": "SwNAMlZBB32c",
        "colab_type": "text"
      },
      "source": [
        "### Removing Items from a List"
      ]
    },
    {
      "cell_type": "markdown",
      "metadata": {
        "id": "Ifv1518nB-9t",
        "colab_type": "text"
      },
      "source": [
        "Let's take an inventory of where we are now."
      ]
    },
    {
      "cell_type": "code",
      "metadata": {
        "id": "IyQ9pN_lCKdm",
        "colab_type": "code",
        "colab": {}
      },
      "source": [
        "print(avengers)"
      ],
      "execution_count": 0,
      "outputs": []
    },
    {
      "cell_type": "markdown",
      "metadata": {
        "id": "6ntEQzoRCMRt",
        "colab_type": "text"
      },
      "source": [
        "There are three ways to remove items from a list:\n",
        "\n",
        "- `del list[i]`- Deletes item from a list at the given index \n",
        "- `list.remove(item)`- Removes the 1st occurrence of an item from a list \n",
        "- `list.pop(i)`- Deletes the item from the given index and returns that value\n",
        "\n",
        "Let's see how these work."
      ]
    },
    {
      "cell_type": "markdown",
      "metadata": {
        "id": "-l2oVQRWDM2D",
        "colab_type": "text"
      },
      "source": [
        "#### Using the List `remove()` Function"
      ]
    },
    {
      "cell_type": "markdown",
      "metadata": {
        "id": "dMz91aZgDT9Z",
        "colab_type": "text"
      },
      "source": [
        "The `remove()` function for a list will remove the first occurrence of that item from the list."
      ]
    },
    {
      "cell_type": "code",
      "metadata": {
        "id": "Nt8aK2IHDk17",
        "colab_type": "code",
        "colab": {}
      },
      "source": [
        "# Use `remove()` to get rid of the [\"Rocket\", \"Groot\"] item from the list.\n"
      ],
      "execution_count": 0,
      "outputs": []
    },
    {
      "cell_type": "markdown",
      "metadata": {
        "id": "OIG7RWPnDuEK",
        "colab_type": "text"
      },
      "source": [
        "#### Using `del` and `pop()`"
      ]
    },
    {
      "cell_type": "markdown",
      "metadata": {
        "id": "Zlqz0FGRDyUe",
        "colab_type": "text"
      },
      "source": [
        "`del` and `pop()` perform similar functions with a subtle difference between them."
      ]
    },
    {
      "cell_type": "code",
      "metadata": {
        "id": "2JTeSgxCEpC6",
        "colab_type": "code",
        "colab": {}
      },
      "source": [
        "# `del` will remove the items in the index provided from a list.\n"
      ],
      "execution_count": 0,
      "outputs": []
    },
    {
      "cell_type": "code",
      "metadata": {
        "id": "kV9V1X2VFUGs",
        "colab_type": "code",
        "colab": {}
      },
      "source": [
        "# You can specify ranges of values to be removed."
      ],
      "execution_count": 0,
      "outputs": []
    },
    {
      "cell_type": "code",
      "metadata": {
        "id": "RNVuapVAFBzV",
        "colab_type": "code",
        "colab": {}
      },
      "source": [
        "# `pop()` will also remove the item at the index provided AND will return that value.\n"
      ],
      "execution_count": 0,
      "outputs": []
    },
    {
      "cell_type": "code",
      "metadata": {
        "id": "L2ETcyOvFSOj",
        "colab_type": "code",
        "colab": {}
      },
      "source": [
        "# If you do not specify an index `pop()` will remove the LAST item of a list."
      ],
      "execution_count": 0,
      "outputs": []
    },
    {
      "cell_type": "markdown",
      "metadata": {
        "id": "qmOCHLVzFuf5",
        "colab_type": "text"
      },
      "source": [
        "## Doing Math with Lists"
      ]
    },
    {
      "cell_type": "markdown",
      "metadata": {
        "id": "drlBJVg4F4LL",
        "colab_type": "text"
      },
      "source": [
        "Earlier we established that lists can contain any kind of data type.\n",
        "\n",
        "Frequently in analytics you'll have lists of numbers you need to perform operations on.\n",
        "\n",
        "Python has a number of functions to help with those!"
      ]
    },
    {
      "cell_type": "code",
      "metadata": {
        "id": "7cmwBLJ_GKHA",
        "colab_type": "code",
        "outputId": "28ccacc6-8740-41b2-8e7b-6891b944a327",
        "colab": {
          "base_uri": "https://localhost:8080/",
          "height": 34
        }
      },
      "source": [
        "# box_office has all the movie grosses for Marvel movies (in millions of $)\n",
        "box_office = [783, 370, 708, 519, 757, 1214, 585, 677, 714, 2732, 1153, 263, 1346, 2046, 890, 449, 623, 880, 622, 1405, 863, 1518, 850, 773, 821, 644, 1127]\n",
        "\n"
      ],
      "execution_count": 0,
      "outputs": [
        {
          "output_type": "stream",
          "text": [
            "[783, 370, 708, 519, 757, 1214, 585, 677, 714, 2732, 1153, 263, 1346, 2046, 890, 449, 623, 880, 622, 1405, 863, 1518, 850, 773, 821, 644, 1127]\n"
          ],
          "name": "stdout"
        }
      ]
    },
    {
      "cell_type": "code",
      "metadata": {
        "id": "VyqVcB4xHvy8",
        "colab_type": "code",
        "colab": {}
      },
      "source": [
        "# Exercise: How many movies are included in the dataset?"
      ],
      "execution_count": 0,
      "outputs": []
    },
    {
      "cell_type": "markdown",
      "metadata": {
        "id": "jlHGcYqXH05V",
        "colab_type": "text"
      },
      "source": [
        "Python has a number of functions you can apply to a list:\n",
        "\n",
        "- `sum()`\n",
        "- `min()`\n",
        "- `max()`\n"
      ]
    },
    {
      "cell_type": "code",
      "metadata": {
        "id": "CBbxRk6_IIV_",
        "colab_type": "code",
        "colab": {}
      },
      "source": [
        "# What's the total gross of Marvel movies?  Highest grossing and lowest grossing?"
      ],
      "execution_count": 0,
      "outputs": []
    },
    {
      "cell_type": "code",
      "metadata": {
        "id": "X4ipazc2H0WP",
        "colab_type": "code",
        "colab": {}
      },
      "source": [
        "total_gross = \n",
        "lowest_gross = \n",
        "highest_gross = "
      ],
      "execution_count": 0,
      "outputs": []
    },
    {
      "cell_type": "code",
      "metadata": {
        "id": "vGAkqx8EIWkq",
        "colab_type": "code",
        "colab": {}
      },
      "source": [
        "# Exercise: What's the average gross of Marvel movies?"
      ],
      "execution_count": 0,
      "outputs": []
    },
    {
      "cell_type": "code",
      "metadata": {
        "id": "2tKdlYerIpfD",
        "colab_type": "code",
        "colab": {}
      },
      "source": [
        "# Exercise: What is the index of the highest grossing movie?"
      ],
      "execution_count": 0,
      "outputs": []
    },
    {
      "cell_type": "code",
      "metadata": {
        "id": "YiYkBSE6I1VM",
        "colab_type": "code",
        "colab": {}
      },
      "source": [
        "# Exercise: What is the value of the last item in the box_office list?"
      ],
      "execution_count": 0,
      "outputs": []
    },
    {
      "cell_type": "markdown",
      "metadata": {
        "id": "68NE4E4hJljM",
        "colab_type": "text"
      },
      "source": [
        "### Sorting Lists\n",
        "\n",
        "Lists can be put in ascending / descending order using the `sorted` function.\n",
        "\n",
        "[`sorted()` function](https://docs.python.org/3/library/functions.html#sorted)\n",
        "\n",
        "One important note about `sorted()` is the function will return a **new** sorted list instead of operating on the original list directly."
      ]
    },
    {
      "cell_type": "code",
      "metadata": {
        "id": "9XI5dW2jJwkm",
        "colab_type": "code",
        "colab": {}
      },
      "source": [
        "# Sort box_office into ascending order.\n"
      ],
      "execution_count": 0,
      "outputs": []
    },
    {
      "cell_type": "code",
      "metadata": {
        "id": "7zUKAS3MJ-_b",
        "colab_type": "code",
        "colab": {}
      },
      "source": [
        "# Sort box_office into descending order."
      ],
      "execution_count": 0,
      "outputs": []
    },
    {
      "cell_type": "markdown",
      "metadata": {
        "id": "t0igN7UKJHUz",
        "colab_type": "text"
      },
      "source": [
        "## Getting Started with Dictionaries"
      ]
    },
    {
      "cell_type": "markdown",
      "metadata": {
        "id": "f1YugoqkKVT4",
        "colab_type": "text"
      },
      "source": [
        "Dictionaries are a commonly used data structure in Python.  Data in a dictionary is stored in key-value pairs.\n",
        "\n",
        "With lists we accessed values using an integer index.  With dictionaries data is accessed by **key** values.\n",
        "\n",
        "Dictionaries are defined by the curly brackets `{}`.\n"
      ]
    },
    {
      "cell_type": "code",
      "metadata": {
        "id": "BkzrtuO0K6-E",
        "colab_type": "code",
        "colab": {}
      },
      "source": [
        "# An example dictionary.\n",
        "d = {\n",
        "    \"this is a key\": \"some value\",\n",
        "    \"this is another key\": \"and another value\",\n",
        "    \"one more key\": 3,\n",
        "    3: \"keys can be integers\",\n",
        "    \"values can be lists\": [1, 2, 3]\n",
        "}"
      ],
      "execution_count": 0,
      "outputs": []
    },
    {
      "cell_type": "markdown",
      "metadata": {
        "id": "VOSUjVB4SXB_",
        "colab_type": "text"
      },
      "source": [
        "With a dictionary elements can be accessed similar to lists:\n",
        "\n",
        "```\n",
        "d[key_value]\n",
        "```\n",
        "\n",
        "The value associated with the key will return its associated value."
      ]
    },
    {
      "cell_type": "code",
      "metadata": {
        "id": "GyHtvu5NMCJl",
        "colab_type": "code",
        "colab": {}
      },
      "source": [
        "# Data can be accessed using the keys in the dictionary.\n"
      ],
      "execution_count": 0,
      "outputs": []
    },
    {
      "cell_type": "code",
      "metadata": {
        "id": "bV1ewPPeMmWP",
        "colab_type": "code",
        "colab": {}
      },
      "source": [
        "# What happens if you try to access a key not in the dictionary?"
      ],
      "execution_count": 0,
      "outputs": []
    },
    {
      "cell_type": "code",
      "metadata": {
        "id": "F_uPfR1YMs0a",
        "colab_type": "code",
        "colab": {}
      },
      "source": [
        "# While lists can be a value in a dictinary they cannot be a key.\n",
        "no_list_key = {\n",
        "    [1, 2, 3]: \"you can't have a list as a key\"\n",
        "}"
      ],
      "execution_count": 0,
      "outputs": []
    },
    {
      "cell_type": "markdown",
      "metadata": {
        "id": "bEW9DsBtLT2E",
        "colab_type": "text"
      },
      "source": [
        "### Getting Some Data"
      ]
    },
    {
      "cell_type": "code",
      "metadata": {
        "id": "l_TqTh1LOpeZ",
        "colab_type": "code",
        "colab": {}
      },
      "source": [
        "# A dictionary of Marvel movies and their gross earnings.\n",
        "marvel_dictionary = {\n",
        "    \"Avengers: Endgame\": 2732,\n",
        "    \"Avengers: Infinity War\": 2046,\n",
        "    \"Marvel's The Avengers\": 1518,\n",
        "    \"Avengers: Age of Ultron\": 1405,\n",
        "    \"Black Panther\": 1346,\n",
        "    \"Iron Man 3\": 1214,\n",
        "    \"Captain America: Civil War\": 1153,\n",
        "    \"Captain Marvel\": 1127,\n",
        "    \"Spider-Man 3\": 890,\n",
        "    \"Spider-Man Homecoming\": 880,\n",
        "    \"Guardians of the Galaxy 2\": 863,\n",
        "    \"Thor: Ragnorak\": 850,\n",
        "    \"Spider-Man\": 821,\n",
        "    \"Spider-Man 2\": 783,\n",
        "    \"Guardians of the Galaxy\": 773,\n",
        "    \"The Amazing Spider-Man\": 757,\n",
        "    \"Captain America: The Winter Soldier\": 714,\n",
        "    \"The Amazing Spider-Man 2\": 708,\n",
        "    \"Doctor Strange\": 677,\n",
        "    \"Thor: The Dark World\": 644,\n",
        "    \"Iron Man 2\": 623,\n",
        "    \"Ant-Man and the Wasp\": 622,\n",
        "    \"Iron Man\": 585,\n",
        "    \"Ant-Man\": 519,\n",
        "    \"Thor\": 449,\n",
        "    \"Captain America: The First Avender\": 370,\n",
        "    \"The Incredible Hulk\": 263\n",
        "}"
      ],
      "execution_count": 0,
      "outputs": []
    },
    {
      "cell_type": "code",
      "metadata": {
        "id": "xne59uLgPaX_",
        "colab_type": "code",
        "colab": {}
      },
      "source": [
        "# What was the gross for \"Guardians of the Galaxy 2\"?"
      ],
      "execution_count": 0,
      "outputs": []
    },
    {
      "cell_type": "markdown",
      "metadata": {
        "id": "B0Y7YzLaPGqP",
        "colab_type": "text"
      },
      "source": [
        "Some of the same functions we used with lists can be used with dictionaries.\n",
        "\n",
        "For example, the `len()` function can be used to tell you how many items are in a dictionary."
      ]
    },
    {
      "cell_type": "code",
      "metadata": {
        "id": "S1uqljd7POxA",
        "colab_type": "code",
        "colab": {}
      },
      "source": [
        "# How many items are in the marvel_dictionary?"
      ],
      "execution_count": 0,
      "outputs": []
    },
    {
      "cell_type": "code",
      "metadata": {
        "id": "N1KlY5coPSLC",
        "colab_type": "code",
        "colab": {}
      },
      "source": [
        "# Exercise: do the number of items in marvel_dictionary equal to the number in box_office?"
      ],
      "execution_count": 0,
      "outputs": []
    },
    {
      "cell_type": "markdown",
      "metadata": {
        "id": "g3xP7i6RPp8U",
        "colab_type": "text"
      },
      "source": [
        "### Is that a Marvel movie?"
      ]
    },
    {
      "cell_type": "markdown",
      "metadata": {
        "id": "qk2WmoNvPt-v",
        "colab_type": "text"
      },
      "source": [
        "Remember the `in` function with lists?  We can use `in` to determine if a key is in a dictionary!\n",
        "\n",
        "When you use `in` with a dictionary it will return `True` if the key exists or `False` if it doesn't."
      ]
    },
    {
      "cell_type": "code",
      "metadata": {
        "id": "mZc5Mwv6QYIY",
        "colab_type": "code",
        "colab": {}
      },
      "source": [
        "# Check if \"Spider-Man\" is a Marvel movie."
      ],
      "execution_count": 0,
      "outputs": []
    },
    {
      "cell_type": "code",
      "metadata": {
        "id": "7qDVfAMdQcqo",
        "colab_type": "code",
        "colab": {}
      },
      "source": [
        "# What about \"Aquaman\"?"
      ],
      "execution_count": 0,
      "outputs": []
    },
    {
      "cell_type": "markdown",
      "metadata": {
        "id": "2zE9uliXbLfJ",
        "colab_type": "text"
      },
      "source": [
        "### Adding New Keys to a Dictionary"
      ]
    },
    {
      "cell_type": "markdown",
      "metadata": {
        "id": "ZPQ0vyhFbhsz",
        "colab_type": "text"
      },
      "source": [
        "Keys can be added to a dictionary by specifying the key you want to add and the value that should be assigned."
      ]
    },
    {
      "cell_type": "code",
      "metadata": {
        "id": "chLvUSQlXmAR",
        "colab_type": "code",
        "colab": {}
      },
      "source": [
        "# Add a Black Widow to the Marvel dictionary"
      ],
      "execution_count": 0,
      "outputs": []
    },
    {
      "cell_type": "markdown",
      "metadata": {
        "id": "NCgsAL7PXhLN",
        "colab_type": "text"
      },
      "source": [
        "You can update values the same way.  Specify the name of the key and the new value you want to assign."
      ]
    },
    {
      "cell_type": "code",
      "metadata": {
        "id": "8qqR-ISPX2gR",
        "colab_type": "code",
        "colab": {}
      },
      "source": [
        "# Exercise: As a placeholder let's assign the average gross of the Marvel movies to Black Widow\n",
        "# HINT: you'll need to use the list of Marvel box office returns we used earlier."
      ],
      "execution_count": 0,
      "outputs": []
    },
    {
      "cell_type": "markdown",
      "metadata": {
        "id": "ElDackk3YYGk",
        "colab_type": "text"
      },
      "source": [
        "### Remvoing Keys from a Dictionary"
      ]
    },
    {
      "cell_type": "markdown",
      "metadata": {
        "id": "OTGVzbLZYueO",
        "colab_type": "text"
      },
      "source": [
        "Removing a key from a dictionary is similar to removing an item from a list.\n",
        "\n",
        "There are two options for doing so:\n",
        "\n",
        "- `del`\n",
        "- `pop`"
      ]
    },
    {
      "cell_type": "code",
      "metadata": {
        "id": "S17DccWdYLRH",
        "colab_type": "code",
        "colab": {}
      },
      "source": [
        "# Let's add \"Aquaman\" and \"Justice League\" to the Marvel dictionary.\n",
        "marvel_dictionary[\"Aquaman\"] = 0\n",
        "marvel_dictionary[\"Justice League\"] = 0"
      ],
      "execution_count": 0,
      "outputs": []
    },
    {
      "cell_type": "code",
      "metadata": {
        "id": "M_VW_XeVZW68",
        "colab_type": "code",
        "colab": {}
      },
      "source": [
        "# Removing \"Aguaman\" using del\n",
        "del marvel_dictionary[\"Aquaman\"]"
      ],
      "execution_count": 0,
      "outputs": []
    },
    {
      "cell_type": "code",
      "metadata": {
        "id": "6KJEBUjaZeFa",
        "colab_type": "code",
        "colab": {}
      },
      "source": [
        "# Removing \"Justice League\" with pop()\n",
        "marvel_dictionary.pop(\"Justice League\")"
      ],
      "execution_count": 0,
      "outputs": []
    },
    {
      "cell_type": "markdown",
      "metadata": {
        "id": "alxDpfuPZmBt",
        "colab_type": "text"
      },
      "source": [
        "Similar to when you used `pop()` with lists when you use `pop()` with a dictionary the value being removed is returned.\n",
        "\n",
        "The one difference is how `pop()` handles when a key doesn't exist."
      ]
    },
    {
      "cell_type": "code",
      "metadata": {
        "id": "-tokGZOQaCxn",
        "colab_type": "code",
        "colab": {}
      },
      "source": [
        "# Try removing a key that doesn't exist.\n",
        "marvel_dictionary.pop(\"Superman\")"
      ],
      "execution_count": 0,
      "outputs": []
    },
    {
      "cell_type": "code",
      "metadata": {
        "id": "Z0268_T4aJFv",
        "colab_type": "code",
        "colab": {}
      },
      "source": [
        "# Add a parameter to force the default behavior to return True if a key isn't found.\n",
        "marvel_dictionary.pop(\"Superman\", True)"
      ],
      "execution_count": 0,
      "outputs": []
    },
    {
      "cell_type": "markdown",
      "metadata": {
        "id": "XLREnQTjae1t",
        "colab_type": "text"
      },
      "source": [
        "## Sets"
      ]
    },
    {
      "cell_type": "markdown",
      "metadata": {
        "id": "Es2o7zrVajac",
        "colab_type": "text"
      },
      "source": [
        "Sets are unordered elements with no duplicate items.\n",
        "\n",
        "Sets are particularly helpful for testing membership.\n",
        "\n",
        "Let's look at an example."
      ]
    },
    {
      "cell_type": "code",
      "metadata": {
        "id": "QJbtCCwkakfk",
        "colab_type": "code",
        "outputId": "75e361b6-5764-4828-f42e-04d15d7f654e",
        "colab": {
          "base_uri": "https://localhost:8080/",
          "height": 34
        }
      },
      "source": [
        "# Are \"Iron Man\" and \"Black Widow\" Avengers?\n",
        "[\"Iron Man\", \"Black Widow\"] in avengers"
      ],
      "execution_count": 0,
      "outputs": [
        {
          "output_type": "execute_result",
          "data": {
            "text/plain": [
              "False"
            ]
          },
          "metadata": {
            "tags": []
          },
          "execution_count": 17
        }
      ]
    },
    {
      "cell_type": "markdown",
      "metadata": {
        "id": "QOgsvlP7cTJ9",
        "colab_type": "text"
      },
      "source": [
        "When you use `in` with lists Python is actually looking to see if there is a list, `[\"Iron Man\", \"Black Widow\"]` within the `avengers` list.\n",
        "\n",
        "One way to see if both \"Iron Man\" and \"Black Widow\" are Avengers is to use sets.\n",
        "\n",
        "To define a set you can use the `set()` function."
      ]
    },
    {
      "cell_type": "code",
      "metadata": {
        "id": "xGmRzWAwcyyl",
        "colab_type": "code",
        "outputId": "3ba17da6-fda2-4a3b-e170-a55c56dc5e5b",
        "colab": {
          "base_uri": "https://localhost:8080/",
          "height": 34
        }
      },
      "source": [
        "# Defining a set.\n",
        "search_set = set([\"Iron Man\", \"Black Widow\"])\n",
        "\n",
        "search_set"
      ],
      "execution_count": 0,
      "outputs": [
        {
          "output_type": "execute_result",
          "data": {
            "text/plain": [
              "{'Black Widow', 'Iron Man'}"
            ]
          },
          "metadata": {
            "tags": []
          },
          "execution_count": 20
        }
      ]
    },
    {
      "cell_type": "code",
      "metadata": {
        "id": "f95muzhodaYk",
        "colab_type": "code",
        "colab": {}
      },
      "source": [
        "# Alternatively you can also define a set with curly braces {}\n",
        "search_set = {\"Iron Man\", \"Black Widow\"}"
      ],
      "execution_count": 0,
      "outputs": []
    },
    {
      "cell_type": "code",
      "metadata": {
        "id": "9voupEagdi1D",
        "colab_type": "code",
        "colab": {}
      },
      "source": [
        "# Sets have a bunch of built-in functions to test membership.\n",
        "help(search_set)"
      ],
      "execution_count": 0,
      "outputs": []
    },
    {
      "cell_type": "code",
      "metadata": {
        "id": "AToIiOg2d1an",
        "colab_type": "code",
        "colab": {}
      },
      "source": [
        "# Use issubset to see if our set is a subset of the Avengers\n"
      ],
      "execution_count": 0,
      "outputs": []
    },
    {
      "cell_type": "code",
      "metadata": {
        "id": "XYsCuqAWd_RW",
        "colab_type": "code",
        "colab": {}
      },
      "source": [
        "# Use `intersection` method to determine what items are in both sets.\n"
      ],
      "execution_count": 0,
      "outputs": []
    },
    {
      "cell_type": "code",
      "metadata": {
        "id": "-pRE98zbeI1J",
        "colab_type": "code",
        "colab": {}
      },
      "source": [
        "# Use 'difference` to see what Avengers aren't in the search set.\n"
      ],
      "execution_count": 0,
      "outputs": []
    },
    {
      "cell_type": "markdown",
      "metadata": {
        "id": "AD_mc99setqv",
        "colab_type": "text"
      },
      "source": [
        "## Tuples"
      ]
    },
    {
      "cell_type": "markdown",
      "metadata": {
        "id": "KSA_lOQJewKh",
        "colab_type": "text"
      },
      "source": [
        "Remember when we said lists are **mutable** and that their contents could be changed?\n",
        "\n",
        "Tuples are **immutable**, which means their contents are static and cannot be changed once initialized.\n",
        "\n",
        "Tuples can be declare by wrapping () around your values."
      ]
    },
    {
      "cell_type": "code",
      "metadata": {
        "id": "jVWCTbXPfDAa",
        "colab_type": "code",
        "colab": {}
      },
      "source": [
        "# Let's start a tuple.\n",
        "this_is_a_tuple = (1, 2, 3)"
      ],
      "execution_count": 0,
      "outputs": []
    },
    {
      "cell_type": "code",
      "metadata": {
        "id": "TfUq1zmPfH3E",
        "colab_type": "code",
        "outputId": "79291728-d7e3-488f-99a8-745267f1645e",
        "colab": {
          "base_uri": "https://localhost:8080/",
          "height": 34
        }
      },
      "source": [
        "# Tuples support indexing"
      ],
      "execution_count": 0,
      "outputs": [
        {
          "output_type": "execute_result",
          "data": {
            "text/plain": [
              "1"
            ]
          },
          "metadata": {
            "tags": []
          },
          "execution_count": 32
        }
      ]
    },
    {
      "cell_type": "code",
      "metadata": {
        "id": "U2a9gP__fUem",
        "colab_type": "code",
        "colab": {}
      },
      "source": [
        "# Exercise: what happens when you try to remove an item to a tuple?\n"
      ],
      "execution_count": 0,
      "outputs": []
    },
    {
      "cell_type": "code",
      "metadata": {
        "id": "eLFIwKYhfpqF",
        "colab_type": "code",
        "colab": {}
      },
      "source": [
        "# Exercise: try to change the value of a tuple.\n"
      ],
      "execution_count": 0,
      "outputs": []
    },
    {
      "cell_type": "code",
      "metadata": {
        "id": "SpHxbY76gH6L",
        "colab_type": "code",
        "outputId": "e4837a6a-fecb-4e56-cfe9-af3657dc37a2",
        "colab": {
          "base_uri": "https://localhost:8080/",
          "height": 34
        }
      },
      "source": [
        "# Tuples must also contain two or more values.\n",
        "single_value_tuple = (1)"
      ],
      "execution_count": 0,
      "outputs": [
        {
          "output_type": "execute_result",
          "data": {
            "text/plain": [
              "str"
            ]
          },
          "metadata": {
            "tags": []
          },
          "execution_count": 44
        }
      ]
    },
    {
      "cell_type": "markdown",
      "metadata": {
        "id": "zNPjFosxgZhj",
        "colab_type": "text"
      },
      "source": [
        "### How are `tuples` useful?"
      ]
    },
    {
      "cell_type": "markdown",
      "metadata": {
        "id": "FmpBuYSBghCF",
        "colab_type": "text"
      },
      "source": [
        "Tuples are useful when your data has meaningful structure and order.\n",
        "\n",
        "For example, latitude and longitude coordinates."
      ]
    },
    {
      "cell_type": "code",
      "metadata": {
        "id": "eqZBn-STgtEi",
        "colab_type": "code",
        "colab": {}
      },
      "source": [
        "# Making a tuple of latitude and longitude coordinates.\n",
        "lat_long_tuple = (43.133433, -73.769027)"
      ],
      "execution_count": 0,
      "outputs": []
    },
    {
      "cell_type": "markdown",
      "metadata": {
        "id": "WMiajgvDhNku",
        "colab_type": "text"
      },
      "source": [
        ""
      ]
    },
    {
      "cell_type": "markdown",
      "metadata": {
        "id": "2FFxInSCYo-H",
        "colab_type": "text"
      },
      "source": [
        "# Resources:\n",
        "\n",
        "- [Introduction to Python Lists](https://dev.to/achiengcindy/inntroduction-to-python-lists-26af)\n",
        "- [Automate the Boring Stuff- Lists](https://automatetheboringstuff.com/2e/chapter4/)\n",
        "- "
      ]
    }
  ]
}